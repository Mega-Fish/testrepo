{
 "cells": [
  {
   "cell_type": "markdown",
   "metadata": {},
   "source": [
    "<center>\n",
    "    <img src=\"https://cf-courses-data.s3.us.cloud-object-storage.appdomain.cloud/IBMDeveloperSkillsNetwork-DS0105EN-SkillsNetwork/labs/Module2/images/SN_web_lightmode.png\" width=\"300\" alt=\"cognitiveclass.ai logo\">\n",
    "</center>\n"
   ]
  },
  {
   "cell_type": "markdown",
   "metadata": {},
   "source": [
    "#### Add your code below following the instructions given in the course\n"
   ]
  },
  {
   "cell_type": "markdown",
   "metadata": {
    "tags": []
   },
   "source": [
    "# My Jupyter Notebook on IBM Watson Studio"
   ]
  },
  {
   "cell_type": "markdown",
   "metadata": {},
   "source": [
    "**Phillip Fischer**  \n",
    " Sales Manager"
   ]
  },
  {
   "cell_type": "markdown",
   "metadata": {},
   "source": [
    "*I am interested in data science because I'd like to know more about it and fancy data*\n"
   ]
  },
  {
   "cell_type": "markdown",
   "metadata": {},
   "source": [
    "### The code below will add one plus one and output two. "
   ]
  },
  {
   "cell_type": "code",
   "execution_count": 6,
   "metadata": {},
   "outputs": [
    {
     "data": {
      "text/plain": [
       "2"
      ]
     },
     "execution_count": 6,
     "metadata": {},
     "output_type": "execute_result"
    }
   ],
   "source": [
    "1 + 1"
   ]
  },
  {
   "cell_type": "markdown",
   "metadata": {},
   "source": [
    "***\n",
    "* horizontal rule \n",
    "* bulleted list \n",
    "* numbered list\n",
    "    1. One\n",
    "    1. Two \n",
    "    1. Go\n",
    "* tables\n",
    "    |E     |Z     |As    |\n",
    "    |------|------|------|\n",
    "    |A     |B     |C     |\n",
    "    |1     |2     |3     |\n",
    "    |U     |&     | Me   |\n",
    "    \n",
    "* hyperlinks [this is a link to Data's Wikipedia Page](https://en.wikipedia.org/wiki/Data_(Star_Trek))\n",
    "* images ![Lieutenant Commander Data](https://en.wikipedia.org/wiki/Data_(Star_Trek)#/media/File:DataTNG.jpg)\n",
    "* code/syntax highlighting  \n",
    "    ```say = \"Syntax highlighting\"  \n",
    "    print say```\n",
    "* blocked quotes\n",
    "    > I have asked myself that many times, as I have struggled to be more human. Until I realized, it is the struggle itself that is most important. We must strive to be more than we are, Lal. It does not matter that we will never reach our ultimate goal. - **Lieutenant Commander Data**,  *Starfleet*  \n",
    "    \n",
    " ~~strike through~~"
   ]
  },
  {
   "cell_type": "code",
   "execution_count": null,
   "metadata": {},
   "outputs": [],
   "source": []
  }
 ],
 "metadata": {
  "kernelspec": {
   "display_name": "Python",
   "language": "python",
   "name": "conda-env-python-py"
  },
  "language_info": {
   "codemirror_mode": {
    "name": "ipython",
    "version": 3
   },
   "file_extension": ".py",
   "mimetype": "text/x-python",
   "name": "python",
   "nbconvert_exporter": "python",
   "pygments_lexer": "ipython3",
   "version": "3.7.12"
  }
 },
 "nbformat": 4,
 "nbformat_minor": 4
}
